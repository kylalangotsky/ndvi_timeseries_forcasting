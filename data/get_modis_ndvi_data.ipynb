{
 "cells": [
  {
   "cell_type": "code",
   "execution_count": 1,
   "metadata": {},
   "outputs": [],
   "source": [
    "import os\n",
    "import requests\n",
    "import pandas as pd\n",
    "from tqdm import tqdm"
   ]
  },
  {
   "cell_type": "markdown",
   "metadata": {},
   "source": [
    "Steps: https://disc.gsfc.nasa.gov/information/howto?keywords=python&title=How%20to%20Access%20GES%20DISC%20Data%20Using%20Python"
   ]
  },
  {
   "cell_type": "code",
   "execution_count": 2,
   "metadata": {},
   "outputs": [],
   "source": [
    "output_directory = \"files\"\n",
    "os.makedirs(output_directory, exist_ok=True)"
   ]
  },
  {
   "cell_type": "code",
   "execution_count": 3,
   "metadata": {},
   "outputs": [
    {
     "name": "stdout",
     "output_type": "stream",
     "text": [
      "646\n"
     ]
    },
    {
     "data": {
      "text/html": [
       "<div>\n",
       "<style scoped>\n",
       "    .dataframe tbody tr th:only-of-type {\n",
       "        vertical-align: middle;\n",
       "    }\n",
       "\n",
       "    .dataframe tbody tr th {\n",
       "        vertical-align: top;\n",
       "    }\n",
       "\n",
       "    .dataframe thead th {\n",
       "        text-align: right;\n",
       "    }\n",
       "</style>\n",
       "<table border=\"1\" class=\"dataframe\">\n",
       "  <thead>\n",
       "    <tr style=\"text-align: right;\">\n",
       "      <th></th>\n",
       "      <th>index</th>\n",
       "      <th>Local Granule ID</th>\n",
       "      <th>Entity ID</th>\n",
       "      <th>Acquisition Start Date</th>\n",
       "      <th>Acquisition End Date</th>\n",
       "      <th>Horizontal Tile Number</th>\n",
       "      <th>Vertical Tile Number</th>\n",
       "      <th>Day/Night Indicator</th>\n",
       "      <th>Version Number</th>\n",
       "      <th>Product Generation Algorithm</th>\n",
       "      <th>...</th>\n",
       "      <th>Center Longitude dec</th>\n",
       "      <th>NW Corner Lat dec</th>\n",
       "      <th>NW Corner Long dec</th>\n",
       "      <th>NE Corner Lat dec</th>\n",
       "      <th>NE Corner Long dec</th>\n",
       "      <th>SE Corner Lat dec</th>\n",
       "      <th>SE Corner Long dec</th>\n",
       "      <th>SW Corner Lat dec</th>\n",
       "      <th>SW Corner Long dec</th>\n",
       "      <th>Display ID</th>\n",
       "    </tr>\n",
       "  </thead>\n",
       "  <tbody>\n",
       "    <tr>\n",
       "      <th>0</th>\n",
       "      <td>MOD13A2.A2009353.h11v04.061.2021149103412.hdf</td>\n",
       "      <td>MOD13A2.A2009353.h11v04.061</td>\n",
       "      <td>2009/12/19</td>\n",
       "      <td>2010/01/03</td>\n",
       "      <td>11</td>\n",
       "      <td>4</td>\n",
       "      <td>Both</td>\n",
       "      <td>61</td>\n",
       "      <td>6.1.1</td>\n",
       "      <td>Passed</td>\n",
       "      <td>...</td>\n",
       "      <td>49.9863</td>\n",
       "      <td>-109.0855</td>\n",
       "      <td>50.0921</td>\n",
       "      <td>-93.3968</td>\n",
       "      <td>39.8489</td>\n",
       "      <td>-78.1497</td>\n",
       "      <td>39.7728</td>\n",
       "      <td>-91.3388</td>\n",
       "      <td>MOD13A2.A2009353.h11v04.061</td>\n",
       "      <td>2458890598</td>\n",
       "    </tr>\n",
       "  </tbody>\n",
       "</table>\n",
       "<p>1 rows × 38 columns</p>\n",
       "</div>"
      ],
      "text/plain": [
       "                                           index             Local Granule ID  \\\n",
       "0  MOD13A2.A2009353.h11v04.061.2021149103412.hdf  MOD13A2.A2009353.h11v04.061   \n",
       "\n",
       "    Entity ID Acquisition Start Date  Acquisition End Date  \\\n",
       "0  2009/12/19             2010/01/03                    11   \n",
       "\n",
       "   Horizontal Tile Number Vertical Tile Number  Day/Night Indicator  \\\n",
       "0                       4                 Both                   61   \n",
       "\n",
       "  Version Number Product Generation Algorithm  ... Center Longitude dec  \\\n",
       "0          6.1.1                       Passed  ...              49.9863   \n",
       "\n",
       "  NW Corner Lat dec NW Corner Long dec  NE Corner Lat dec NE Corner Long dec  \\\n",
       "0         -109.0855            50.0921           -93.3968            39.8489   \n",
       "\n",
       "  SE Corner Lat dec SE Corner Long dec SW Corner Lat dec  \\\n",
       "0          -78.1497            39.7728          -91.3388   \n",
       "\n",
       "            SW Corner Long dec  Display ID  \n",
       "0  MOD13A2.A2009353.h11v04.061  2458890598  \n",
       "\n",
       "[1 rows x 38 columns]"
      ]
     },
     "execution_count": 3,
     "metadata": {},
     "output_type": "execute_result"
    }
   ],
   "source": [
    "df = pd.read_csv(\n",
    "    \"/Users/kyla/Downloads/modis_mod13a2_v61_664cedd8f73d8165.csv\", encoding=\"cp1252\"\n",
    ").reset_index()\n",
    "print(len(df))\n",
    "df.head(1)"
   ]
  },
  {
   "cell_type": "code",
   "execution_count": 4,
   "metadata": {},
   "outputs": [
    {
     "data": {
      "text/plain": [
       "('2009/12/19', 'MOD13A2.A2009353.h11v04.061.2021149103412.hdf')"
      ]
     },
     "execution_count": 4,
     "metadata": {},
     "output_type": "execute_result"
    }
   ],
   "source": [
    "df.values[0][2], df.values[0][0]"
   ]
  },
  {
   "cell_type": "code",
   "execution_count": 5,
   "metadata": {},
   "outputs": [
    {
     "data": {
      "text/plain": [
       "'MOD13A2'"
      ]
     },
     "execution_count": 5,
     "metadata": {},
     "output_type": "execute_result"
    }
   ],
   "source": [
    "modis_kind = df.values[0][0].split(\".\")[0]\n",
    "modis_kind"
   ]
  },
  {
   "cell_type": "code",
   "execution_count": 6,
   "metadata": {},
   "outputs": [
    {
     "name": "stderr",
     "output_type": "stream",
     "text": [
      "100%|██████████| 646/646 [1:01:17<00:00,  5.69s/it]\n"
     ]
    }
   ],
   "source": [
    "errored_files = []\n",
    "for row in tqdm(df.values):\n",
    "    url = f\"https://e4ftl01.cr.usgs.gov/DP131/MOLT/{modis_kind}.061/{row[2].replace('/','.')}/{row[0]}\"\n",
    "    result = requests.get(url)\n",
    "    path_out = os.path.join(output_directory, row[0])\n",
    "    try:\n",
    "        result.raise_for_status()\n",
    "        f = open(path_out, \"wb\")\n",
    "        f.write(result.content)\n",
    "        f.close()\n",
    "    except Exception as e:\n",
    "        print(f\"{row[0]} -- {e} -- error code: {result.status_code}\")\n",
    "        errored_files.append(url)"
   ]
  },
  {
   "cell_type": "code",
   "execution_count": null,
   "metadata": {},
   "outputs": [],
   "source": []
  }
 ],
 "metadata": {
  "kernelspec": {
   "display_name": "base",
   "language": "python",
   "name": "python3"
  },
  "language_info": {
   "codemirror_mode": {
    "name": "ipython",
    "version": 3
   },
   "file_extension": ".py",
   "mimetype": "text/x-python",
   "name": "python",
   "nbconvert_exporter": "python",
   "pygments_lexer": "ipython3",
   "version": "3.8.8"
  }
 },
 "nbformat": 4,
 "nbformat_minor": 2
}
