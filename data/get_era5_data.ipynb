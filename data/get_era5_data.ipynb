{
 "cells": [
  {
   "cell_type": "code",
   "execution_count": 1,
   "metadata": {},
   "outputs": [],
   "source": [
    "import os\n",
    "import cdsapi"
   ]
  },
  {
   "cell_type": "markdown",
   "metadata": {},
   "source": [
    "Instructions on how to use the CDS API: https://cds.climate.copernicus.eu/api-how-to"
   ]
  },
  {
   "cell_type": "code",
   "execution_count": 2,
   "metadata": {},
   "outputs": [],
   "source": [
    "# Set parameters\n",
    "variables = [\"2m_temperature\", \"total_precipitation\"]\n",
    "years = list(range(2010, 2024))\n",
    "months = [str(month).zfill(2) for month in range(1, 13)]\n",
    "days = [str(day).zfill(2) for day in range(1, 32)]\n",
    "time = \"12:00\""
   ]
  },
  {
   "cell_type": "code",
   "execution_count": 3,
   "metadata": {},
   "outputs": [],
   "source": [
    "path_out = \"era5_data\"\n",
    "os.makedirs(path_out, exist_ok=True)"
   ]
  },
  {
   "cell_type": "code",
   "execution_count": 4,
   "metadata": {},
   "outputs": [],
   "source": [
    "bbox = [\n",
    "    60.2231268939801,\n",
    "    -143.23163662668,\n",
    "    49.4789113103597,\n",
    "    -92.8933532661929,\n",
    "]  # North, West, South, East"
   ]
  },
  {
   "cell_type": "code",
   "execution_count": 5,
   "metadata": {},
   "outputs": [
    {
     "name": "stdout",
     "output_type": "stream",
     "text": [
      "Retrieving data for 2m_temperature, 2010\n"
     ]
    },
    {
     "name": "stderr",
     "output_type": "stream",
     "text": [
      "2024-05-15 22:21:20,208 INFO Welcome to the CDS\n",
      "2024-05-15 22:21:20,208 INFO Sending request to https://cds.climate.copernicus.eu/api/v2/resources/reanalysis-era5-single-levels\n",
      "2024-05-15 22:21:20,463 INFO Request is queued\n",
      "2024-05-15 22:21:21,677 INFO Request is running\n",
      "2024-05-15 22:21:54,051 INFO Request is completed\n",
      "2024-05-15 22:21:54,051 INFO Downloading https://download-0002-clone.copernicus-climate.eu/cache-compute-0002/cache/data3/adaptor.mars.internal-1715833303.3139558-12119-11-aec159a9-8192-42e1-92a6-f9f75d28915e.nc to era5_data/2m_temperature_2010.nc (6.1M)\n",
      "2024-05-15 22:21:57,315 INFO Download rate 1.9M/s   \n",
      "2024-05-15 22:21:57,702 INFO Welcome to the CDS\n",
      "2024-05-15 22:21:57,703 INFO Sending request to https://cds.climate.copernicus.eu/api/v2/resources/reanalysis-era5-single-levels\n"
     ]
    },
    {
     "name": "stdout",
     "output_type": "stream",
     "text": [
      "Retrieving data for 2m_temperature, 2011\n"
     ]
    },
    {
     "name": "stderr",
     "output_type": "stream",
     "text": [
      "2024-05-15 22:21:58,038 INFO Request is queued\n",
      "2024-05-15 22:21:59,255 INFO Request is running\n",
      "2024-05-15 22:22:31,630 INFO Request is completed\n",
      "2024-05-15 22:22:31,631 INFO Downloading https://download-0004-clone.copernicus-climate.eu/cache-compute-0004/cache/data1/adaptor.mars.internal-1715833339.2934008-7532-6-e06dcbeb-861d-4304-93cf-b860cb8126c3.nc to era5_data/2m_temperature_2011.nc (6.1M)\n",
      "2024-05-15 22:22:34,423 INFO Download rate 2.2M/s   \n",
      "2024-05-15 22:22:34,888 INFO Welcome to the CDS\n",
      "2024-05-15 22:22:34,889 INFO Sending request to https://cds.climate.copernicus.eu/api/v2/resources/reanalysis-era5-single-levels\n"
     ]
    },
    {
     "name": "stdout",
     "output_type": "stream",
     "text": [
      "Retrieving data for 2m_temperature, 2012\n"
     ]
    },
    {
     "name": "stderr",
     "output_type": "stream",
     "text": [
      "2024-05-15 22:22:35,090 INFO Request is queued\n",
      "2024-05-15 22:22:36,294 INFO Request is running\n",
      "2024-05-15 22:23:08,655 INFO Request is completed\n",
      "2024-05-15 22:23:08,655 INFO Downloading https://download-0000-clone.copernicus-climate.eu/cache-compute-0000/cache/data5/adaptor.mars.internal-1715833377.2045817-25055-5-6c97db8f-1073-4d70-87c2-4a16f995f56b.nc to era5_data/2m_temperature_2012.nc (6.1M)\n",
      "2024-05-15 22:23:11,478 INFO Download rate 2.1M/s   \n",
      "2024-05-15 22:23:11,875 INFO Welcome to the CDS\n",
      "2024-05-15 22:23:11,875 INFO Sending request to https://cds.climate.copernicus.eu/api/v2/resources/reanalysis-era5-single-levels\n"
     ]
    },
    {
     "name": "stdout",
     "output_type": "stream",
     "text": [
      "Retrieving data for 2m_temperature, 2013\n"
     ]
    },
    {
     "name": "stderr",
     "output_type": "stream",
     "text": [
      "2024-05-15 22:23:12,092 INFO Request is queued\n",
      "2024-05-15 22:23:13,299 INFO Request is running\n",
      "2024-05-15 22:23:45,694 INFO Request is completed\n",
      "2024-05-15 22:23:45,695 INFO Downloading https://download-0014-clone.copernicus-climate.eu/cache-compute-0014/cache/data3/adaptor.mars.internal-1715833414.9835522-20772-16-4f0f57d4-00dd-4227-bcf4-83285755a76f.nc to era5_data/2m_temperature_2013.nc (6.1M)\n",
      "2024-05-15 22:23:48,699 INFO Download rate 2M/s     \n",
      "2024-05-15 22:23:49,096 INFO Welcome to the CDS\n",
      "2024-05-15 22:23:49,096 INFO Sending request to https://cds.climate.copernicus.eu/api/v2/resources/reanalysis-era5-single-levels\n"
     ]
    },
    {
     "name": "stdout",
     "output_type": "stream",
     "text": [
      "Retrieving data for 2m_temperature, 2014\n"
     ]
    },
    {
     "name": "stderr",
     "output_type": "stream",
     "text": [
      "2024-05-15 22:23:49,303 INFO Request is queued\n",
      "2024-05-15 22:23:50,503 INFO Request is running\n",
      "2024-05-15 22:24:22,878 INFO Request is completed\n",
      "2024-05-15 22:24:22,879 INFO Downloading https://download-0015-clone.copernicus-climate.eu/cache-compute-0015/cache/data8/adaptor.mars.internal-1715833453.2234046-17491-9-0b89d3a5-0e43-4b9e-b20b-b76caaef4f9c.nc to era5_data/2m_temperature_2014.nc (6.1M)\n",
      "2024-05-15 22:24:25,629 INFO Download rate 2.2M/s   \n",
      "2024-05-15 22:24:26,028 INFO Welcome to the CDS\n",
      "2024-05-15 22:24:26,028 INFO Sending request to https://cds.climate.copernicus.eu/api/v2/resources/reanalysis-era5-single-levels\n"
     ]
    },
    {
     "name": "stdout",
     "output_type": "stream",
     "text": [
      "Retrieving data for 2m_temperature, 2015\n"
     ]
    },
    {
     "name": "stderr",
     "output_type": "stream",
     "text": [
      "2024-05-15 22:24:26,241 INFO Request is queued\n",
      "2024-05-15 22:24:27,442 INFO Request is running\n",
      "2024-05-15 22:24:59,802 INFO Request is completed\n",
      "2024-05-15 22:24:59,802 INFO Downloading https://download-0009-clone.copernicus-climate.eu/cache-compute-0009/cache/data5/adaptor.mars.internal-1715833490.5636907-14971-8-18b8b92b-a0ba-4839-8b0c-2707b2e17a3c.nc to era5_data/2m_temperature_2015.nc (6.1M)\n",
      "2024-05-15 22:25:02,611 INFO Download rate 2.2M/s   \n",
      "2024-05-15 22:25:03,007 INFO Welcome to the CDS\n",
      "2024-05-15 22:25:03,008 INFO Sending request to https://cds.climate.copernicus.eu/api/v2/resources/reanalysis-era5-single-levels\n"
     ]
    },
    {
     "name": "stdout",
     "output_type": "stream",
     "text": [
      "Retrieving data for 2m_temperature, 2016\n"
     ]
    },
    {
     "name": "stderr",
     "output_type": "stream",
     "text": [
      "2024-05-15 22:25:03,210 INFO Request is queued\n",
      "2024-05-15 22:25:04,410 INFO Request is running\n",
      "2024-05-15 22:25:36,777 INFO Request is completed\n",
      "2024-05-15 22:25:36,777 INFO Downloading https://download-0020.copernicus-climate.eu/cache-compute-0020/cache/data3/adaptor.mars.internal-1715833526.8388026-11163-17-cd91387a-d85a-4819-9205-021e97acbef4.nc to era5_data/2m_temperature_2016.nc (6.1M)\n",
      "2024-05-15 22:25:39,561 INFO Download rate 2.2M/s   \n",
      "2024-05-15 22:25:39,952 INFO Welcome to the CDS\n",
      "2024-05-15 22:25:39,952 INFO Sending request to https://cds.climate.copernicus.eu/api/v2/resources/reanalysis-era5-single-levels\n"
     ]
    },
    {
     "name": "stdout",
     "output_type": "stream",
     "text": [
      "Retrieving data for 2m_temperature, 2017\n"
     ]
    },
    {
     "name": "stderr",
     "output_type": "stream",
     "text": [
      "2024-05-15 22:25:40,184 INFO Request is queued\n",
      "2024-05-15 22:25:41,383 INFO Request is running\n",
      "2024-05-15 22:26:13,766 INFO Request is completed\n",
      "2024-05-15 22:26:13,767 INFO Downloading https://download-0013-clone.copernicus-climate.eu/cache-compute-0013/cache/data6/adaptor.mars.internal-1715833562.8497412-12531-14-7314721c-c8d3-452d-9053-b2ea46006448.nc to era5_data/2m_temperature_2017.nc (6.1M)\n",
      "2024-05-15 22:26:16,566 INFO Download rate 2.2M/s   \n",
      "2024-05-15 22:26:16,958 INFO Welcome to the CDS\n",
      "2024-05-15 22:26:16,959 INFO Sending request to https://cds.climate.copernicus.eu/api/v2/resources/reanalysis-era5-single-levels\n"
     ]
    },
    {
     "name": "stdout",
     "output_type": "stream",
     "text": [
      "Retrieving data for 2m_temperature, 2018\n"
     ]
    },
    {
     "name": "stderr",
     "output_type": "stream",
     "text": [
      "2024-05-15 22:26:17,200 INFO Request is queued\n",
      "2024-05-15 22:26:18,407 INFO Request is running\n",
      "2024-05-15 22:26:50,768 INFO Request is completed\n",
      "2024-05-15 22:26:50,768 INFO Downloading https://download-0012-clone.copernicus-climate.eu/cache-compute-0012/cache/data2/adaptor.mars.internal-1715833601.059983-10068-10-eab5fc41-9f29-4bf7-8cee-e2a4bcfc17b6.nc to era5_data/2m_temperature_2018.nc (6.1M)\n",
      "2024-05-15 22:26:54,611 INFO Download rate 1.6M/s   \n",
      "2024-05-15 22:26:55,004 INFO Welcome to the CDS\n",
      "2024-05-15 22:26:55,004 INFO Sending request to https://cds.climate.copernicus.eu/api/v2/resources/reanalysis-era5-single-levels\n"
     ]
    },
    {
     "name": "stdout",
     "output_type": "stream",
     "text": [
      "Retrieving data for 2m_temperature, 2019\n"
     ]
    },
    {
     "name": "stderr",
     "output_type": "stream",
     "text": [
      "2024-05-15 22:26:55,294 INFO Request is queued\n",
      "2024-05-15 22:26:56,497 INFO Request is running\n",
      "2024-05-15 22:27:28,876 INFO Request is completed\n",
      "2024-05-15 22:27:28,877 INFO Downloading https://download-0001-clone.copernicus-climate.eu/cache-compute-0001/cache/data2/adaptor.mars.internal-1715833636.7595117-2490-16-8830ce11-640b-4a98-957a-9d4b812fc0ff.nc to era5_data/2m_temperature_2019.nc (6.1M)\n",
      "2024-05-15 22:27:31,598 INFO Download rate 2.2M/s   \n"
     ]
    },
    {
     "name": "stdout",
     "output_type": "stream",
     "text": [
      "Retrieving data for 2m_temperature, 2020\n"
     ]
    },
    {
     "name": "stderr",
     "output_type": "stream",
     "text": [
      "2024-05-15 22:27:32,600 INFO Welcome to the CDS\n",
      "2024-05-15 22:27:32,601 INFO Sending request to https://cds.climate.copernicus.eu/api/v2/resources/reanalysis-era5-single-levels\n",
      "2024-05-15 22:27:32,849 INFO Request is queued\n",
      "2024-05-15 22:27:34,072 INFO Request is running\n",
      "2024-05-15 22:28:06,464 INFO Request is completed\n",
      "2024-05-15 22:28:06,465 INFO Downloading https://download-0003-clone.copernicus-climate.eu/cache-compute-0003/cache/data6/adaptor.mars.internal-1715833674.2123766-7918-20-9cb5f371-0da5-43d2-89ea-b0bfb9e5ea01.nc to era5_data/2m_temperature_2020.nc (6.1M)\n",
      "2024-05-15 22:28:09,445 INFO Download rate 2M/s     \n",
      "2024-05-15 22:28:09,836 INFO Welcome to the CDS\n",
      "2024-05-15 22:28:09,836 INFO Sending request to https://cds.climate.copernicus.eu/api/v2/resources/reanalysis-era5-single-levels\n"
     ]
    },
    {
     "name": "stdout",
     "output_type": "stream",
     "text": [
      "Retrieving data for 2m_temperature, 2021\n"
     ]
    },
    {
     "name": "stderr",
     "output_type": "stream",
     "text": [
      "2024-05-15 22:28:10,050 INFO Request is queued\n",
      "2024-05-15 22:28:11,254 INFO Request is running\n",
      "2024-05-15 22:28:32,052 INFO Request is completed\n",
      "2024-05-15 22:28:32,052 INFO Downloading https://download-0010-clone.copernicus-climate.eu/cache-compute-0010/cache/data9/adaptor.mars.internal-1715833709.687191-24909-19-09cd67b6-fc0c-4241-94a8-e6ae25d7b99e.nc to era5_data/2m_temperature_2021.nc (6.1M)\n",
      "2024-05-15 22:28:34,746 INFO Download rate 2.2M/s   \n",
      "2024-05-15 22:28:35,146 INFO Welcome to the CDS\n",
      "2024-05-15 22:28:35,147 INFO Sending request to https://cds.climate.copernicus.eu/api/v2/resources/reanalysis-era5-single-levels\n"
     ]
    },
    {
     "name": "stdout",
     "output_type": "stream",
     "text": [
      "Retrieving data for 2m_temperature, 2022\n"
     ]
    },
    {
     "name": "stderr",
     "output_type": "stream",
     "text": [
      "2024-05-15 22:28:35,366 INFO Request is queued\n",
      "2024-05-15 22:28:36,564 INFO Request is running\n",
      "2024-05-15 22:28:57,353 INFO Request is completed\n",
      "2024-05-15 22:28:57,354 INFO Downloading https://download-0015-clone.copernicus-climate.eu/cache-compute-0015/cache/data5/adaptor.mars.internal-1715833733.3924048-18089-15-71270040-f88f-40d1-bc77-873fefb7e3a3.nc to era5_data/2m_temperature_2022.nc (6.1M)\n",
      "2024-05-15 22:29:00,055 INFO Download rate 2.2M/s   \n",
      "2024-05-15 22:29:00,450 INFO Welcome to the CDS\n",
      "2024-05-15 22:29:00,450 INFO Sending request to https://cds.climate.copernicus.eu/api/v2/resources/reanalysis-era5-single-levels\n"
     ]
    },
    {
     "name": "stdout",
     "output_type": "stream",
     "text": [
      "Retrieving data for 2m_temperature, 2023\n"
     ]
    },
    {
     "name": "stderr",
     "output_type": "stream",
     "text": [
      "2024-05-15 22:29:00,668 INFO Request is queued\n",
      "2024-05-15 22:29:01,870 INFO Request is running\n",
      "2024-05-15 22:29:22,655 INFO Request is completed\n",
      "2024-05-15 22:29:22,656 INFO Downloading https://download-0016.copernicus-climate.eu/cache-compute-0016/cache/data7/adaptor.mars.internal-1715833757.5325632-11137-8-b5c2cfd2-e903-440a-9bd5-dc21da9d37f9.nc to era5_data/2m_temperature_2023.nc (6.1M)\n",
      "2024-05-15 22:29:25,450 INFO Download rate 2.2M/s   \n",
      "2024-05-15 22:29:25,848 INFO Welcome to the CDS\n",
      "2024-05-15 22:29:25,848 INFO Sending request to https://cds.climate.copernicus.eu/api/v2/resources/reanalysis-era5-single-levels\n"
     ]
    },
    {
     "name": "stdout",
     "output_type": "stream",
     "text": [
      "Retrieving data for total_precipitation, 2010\n"
     ]
    },
    {
     "name": "stderr",
     "output_type": "stream",
     "text": [
      "2024-05-15 22:29:26,065 INFO Request is queued\n",
      "2024-05-15 22:29:27,265 INFO Request is running\n",
      "2024-05-15 22:29:59,654 INFO Request is completed\n",
      "2024-05-15 22:29:59,655 INFO Downloading https://download-0017.copernicus-climate.eu/cache-compute-0017/cache/data2/adaptor.mars.internal-1715833789.7216728-5449-16-3786ab15-e503-4048-bf90-b1bbc48a179c.nc to era5_data/total_precipitation_2010.nc (6.1M)\n",
      "2024-05-15 22:30:02,557 INFO Download rate 2.1M/s   \n",
      "2024-05-15 22:30:02,955 INFO Welcome to the CDS\n",
      "2024-05-15 22:30:02,955 INFO Sending request to https://cds.climate.copernicus.eu/api/v2/resources/reanalysis-era5-single-levels\n"
     ]
    },
    {
     "name": "stdout",
     "output_type": "stream",
     "text": [
      "Retrieving data for total_precipitation, 2011\n"
     ]
    },
    {
     "name": "stderr",
     "output_type": "stream",
     "text": [
      "2024-05-15 22:30:03,194 INFO Request is queued\n",
      "2024-05-15 22:30:04,395 INFO Request is running\n",
      "2024-05-15 22:30:36,772 INFO Request is completed\n",
      "2024-05-15 22:30:36,773 INFO Downloading https://download-0003-clone.copernicus-climate.eu/cache-compute-0003/cache/data4/adaptor.mars.internal-1715833827.6301422-4922-8-8a5fc600-d781-4843-ac2b-f95203aefab3.nc to era5_data/total_precipitation_2011.nc (6.1M)\n",
      "2024-05-15 22:30:39,186 INFO Download rate 2.5M/s   \n",
      "2024-05-15 22:30:39,581 INFO Welcome to the CDS\n",
      "2024-05-15 22:30:39,581 INFO Sending request to https://cds.climate.copernicus.eu/api/v2/resources/reanalysis-era5-single-levels\n"
     ]
    },
    {
     "name": "stdout",
     "output_type": "stream",
     "text": [
      "Retrieving data for total_precipitation, 2012\n"
     ]
    },
    {
     "name": "stderr",
     "output_type": "stream",
     "text": [
      "2024-05-15 22:30:39,785 INFO Request is queued\n",
      "2024-05-15 22:30:40,990 INFO Request is running\n",
      "2024-05-15 22:31:13,375 INFO Request is completed\n",
      "2024-05-15 22:31:13,376 INFO Downloading https://download-0006-clone.copernicus-climate.eu/cache-compute-0006/cache/data3/adaptor.mars.internal-1715833866.0044394-5984-16-95263652-0191-4106-9db7-2bc02b66510c.nc to era5_data/total_precipitation_2012.nc (6.1M)\n",
      "2024-05-15 22:31:16,139 INFO Download rate 2.2M/s   \n",
      "2024-05-15 22:31:16,536 INFO Welcome to the CDS\n",
      "2024-05-15 22:31:16,537 INFO Sending request to https://cds.climate.copernicus.eu/api/v2/resources/reanalysis-era5-single-levels\n"
     ]
    },
    {
     "name": "stdout",
     "output_type": "stream",
     "text": [
      "Retrieving data for total_precipitation, 2013\n"
     ]
    },
    {
     "name": "stderr",
     "output_type": "stream",
     "text": [
      "2024-05-15 22:31:16,752 INFO Request is queued\n",
      "2024-05-15 22:31:17,959 INFO Request is running\n",
      "2024-05-15 22:31:50,340 INFO Request is completed\n",
      "2024-05-15 22:31:50,341 INFO Downloading https://download-0006-clone.copernicus-climate.eu/cache-compute-0006/cache/data1/adaptor.mars.internal-1715833902.056999-31072-16-7835f015-1d81-4d0b-a0f5-01c10ac6be89.nc to era5_data/total_precipitation_2013.nc (6.1M)\n",
      "2024-05-15 22:31:52,101 INFO Download rate 3.4M/s   \n",
      "2024-05-15 22:31:52,496 INFO Welcome to the CDS\n",
      "2024-05-15 22:31:52,497 INFO Sending request to https://cds.climate.copernicus.eu/api/v2/resources/reanalysis-era5-single-levels\n"
     ]
    },
    {
     "name": "stdout",
     "output_type": "stream",
     "text": [
      "Retrieving data for total_precipitation, 2014\n"
     ]
    },
    {
     "name": "stderr",
     "output_type": "stream",
     "text": [
      "2024-05-15 22:31:52,713 INFO Request is queued\n",
      "2024-05-15 22:31:53,916 INFO Request is running\n",
      "2024-05-15 22:32:26,302 INFO Request is completed\n",
      "2024-05-15 22:32:26,303 INFO Downloading https://download-0005-clone.copernicus-climate.eu/cache-compute-0005/cache/data3/adaptor.mars.internal-1715833939.943827-12052-15-0e295a0f-d6ae-4fb4-b28c-12a63f19cb01.nc to era5_data/total_precipitation_2014.nc (6.1M)\n",
      "2024-05-15 22:32:29,084 INFO Download rate 2.2M/s   \n",
      "2024-05-15 22:32:29,479 INFO Welcome to the CDS\n",
      "2024-05-15 22:32:29,480 INFO Sending request to https://cds.climate.copernicus.eu/api/v2/resources/reanalysis-era5-single-levels\n"
     ]
    },
    {
     "name": "stdout",
     "output_type": "stream",
     "text": [
      "Retrieving data for total_precipitation, 2015\n"
     ]
    },
    {
     "name": "stderr",
     "output_type": "stream",
     "text": [
      "2024-05-15 22:32:29,695 INFO Request is queued\n",
      "2024-05-15 22:32:30,892 INFO Request is running\n",
      "2024-05-15 22:33:03,289 INFO Request is completed\n",
      "2024-05-15 22:33:03,290 INFO Downloading https://download-0010-clone.copernicus-climate.eu/cache-compute-0010/cache/data2/adaptor.mars.internal-1715833974.504665-23312-16-0735b3ab-3307-4030-8737-343101981bf8.nc to era5_data/total_precipitation_2015.nc (6.1M)\n",
      "2024-05-15 22:33:05,628 INFO Download rate 2.6M/s   \n",
      "2024-05-15 22:33:06,019 INFO Welcome to the CDS\n",
      "2024-05-15 22:33:06,020 INFO Sending request to https://cds.climate.copernicus.eu/api/v2/resources/reanalysis-era5-single-levels\n"
     ]
    },
    {
     "name": "stdout",
     "output_type": "stream",
     "text": [
      "Retrieving data for total_precipitation, 2016\n"
     ]
    },
    {
     "name": "stderr",
     "output_type": "stream",
     "text": [
      "2024-05-15 22:33:06,234 INFO Request is queued\n",
      "2024-05-15 22:33:07,437 INFO Request is running\n",
      "2024-05-15 22:33:40,418 INFO Request is completed\n",
      "2024-05-15 22:33:40,419 INFO Downloading https://download-0019.copernicus-climate.eu/cache-compute-0019/cache/data0/adaptor.mars.internal-1715834010.040006-18633-6-5bf2e923-3192-4f1d-9fe0-476d9731dab5.nc to era5_data/total_precipitation_2016.nc (6.1M)\n",
      "2024-05-15 22:33:43,168 INFO Download rate 2.2M/s   \n",
      "2024-05-15 22:33:43,563 INFO Welcome to the CDS\n",
      "2024-05-15 22:33:43,564 INFO Sending request to https://cds.climate.copernicus.eu/api/v2/resources/reanalysis-era5-single-levels\n"
     ]
    },
    {
     "name": "stdout",
     "output_type": "stream",
     "text": [
      "Retrieving data for total_precipitation, 2017\n"
     ]
    },
    {
     "name": "stderr",
     "output_type": "stream",
     "text": [
      "2024-05-15 22:33:43,767 INFO Request is queued\n",
      "2024-05-15 22:33:44,974 INFO Request is running\n",
      "2024-05-15 22:34:17,342 INFO Request is completed\n",
      "2024-05-15 22:34:17,343 INFO Downloading https://download-0000-clone.copernicus-climate.eu/cache-compute-0000/cache/data6/adaptor.mars.internal-1715834050.1408153-26592-11-a5316d8e-5ada-494b-8e39-68b7ced182d9.nc to era5_data/total_precipitation_2017.nc (6.1M)\n",
      "2024-05-15 22:34:19,878 INFO Download rate 2.4M/s   \n",
      "2024-05-15 22:34:20,271 INFO Welcome to the CDS\n",
      "2024-05-15 22:34:20,272 INFO Sending request to https://cds.climate.copernicus.eu/api/v2/resources/reanalysis-era5-single-levels\n"
     ]
    },
    {
     "name": "stdout",
     "output_type": "stream",
     "text": [
      "Retrieving data for total_precipitation, 2018\n"
     ]
    },
    {
     "name": "stderr",
     "output_type": "stream",
     "text": [
      "2024-05-15 22:34:20,512 INFO Request is queued\n",
      "2024-05-15 22:34:21,712 INFO Request is running\n",
      "2024-05-15 22:34:54,086 INFO Request is completed\n",
      "2024-05-15 22:34:54,087 INFO Downloading https://download-0013-clone.copernicus-climate.eu/cache-compute-0013/cache/data6/adaptor.mars.internal-1715834084.0867038-15737-5-baeff78e-4dae-4419-a04a-74800cf526d5.nc to era5_data/total_precipitation_2018.nc (6.1M)\n",
      "2024-05-15 22:34:56,679 INFO Download rate 2.3M/s   \n",
      "2024-05-15 22:34:57,070 INFO Welcome to the CDS\n",
      "2024-05-15 22:34:57,071 INFO Sending request to https://cds.climate.copernicus.eu/api/v2/resources/reanalysis-era5-single-levels\n"
     ]
    },
    {
     "name": "stdout",
     "output_type": "stream",
     "text": [
      "Retrieving data for total_precipitation, 2019\n"
     ]
    },
    {
     "name": "stderr",
     "output_type": "stream",
     "text": [
      "2024-05-15 22:34:57,306 INFO Request is queued\n",
      "2024-05-15 22:34:58,504 INFO Request is running\n",
      "2024-05-15 22:35:30,888 INFO Request is completed\n",
      "2024-05-15 22:35:30,888 INFO Downloading https://download-0008-clone.copernicus-climate.eu/cache-compute-0008/cache/data5/adaptor.mars.internal-1715834120.084608-18652-9-c2ed457f-0c0f-4c08-b4a7-d1634c2f96aa.nc to era5_data/total_precipitation_2019.nc (6.1M)\n",
      "2024-05-15 22:35:33,674 INFO Download rate 2.2M/s   \n",
      "2024-05-15 22:35:34,069 INFO Welcome to the CDS\n",
      "2024-05-15 22:35:34,070 INFO Sending request to https://cds.climate.copernicus.eu/api/v2/resources/reanalysis-era5-single-levels\n"
     ]
    },
    {
     "name": "stdout",
     "output_type": "stream",
     "text": [
      "Retrieving data for total_precipitation, 2020\n"
     ]
    },
    {
     "name": "stderr",
     "output_type": "stream",
     "text": [
      "2024-05-15 22:35:34,288 INFO Request is queued\n",
      "2024-05-15 22:35:35,482 INFO Request is running\n",
      "2024-05-15 22:36:07,849 INFO Request is completed\n",
      "2024-05-15 22:36:07,849 INFO Downloading https://download-0003-clone.copernicus-climate.eu/cache-compute-0003/cache/data8/adaptor.mars.internal-1715834157.9892938-7323-3-798c433c-e4d1-4c47-8f4e-2c6a83fb3c2d.nc to era5_data/total_precipitation_2020.nc (6.1M)\n",
      "2024-05-15 22:36:10,480 INFO Download rate 2.3M/s   \n",
      "2024-05-15 22:36:10,870 INFO Welcome to the CDS\n",
      "2024-05-15 22:36:10,871 INFO Sending request to https://cds.climate.copernicus.eu/api/v2/resources/reanalysis-era5-single-levels\n"
     ]
    },
    {
     "name": "stdout",
     "output_type": "stream",
     "text": [
      "Retrieving data for total_precipitation, 2021\n"
     ]
    },
    {
     "name": "stderr",
     "output_type": "stream",
     "text": [
      "2024-05-15 22:36:11,071 INFO Request is queued\n",
      "2024-05-15 22:36:12,271 INFO Request is running\n",
      "2024-05-15 22:36:44,628 INFO Request is completed\n",
      "2024-05-15 22:36:44,629 INFO Downloading https://download-0017.copernicus-climate.eu/cache-compute-0017/cache/data4/adaptor.mars.internal-1715834195.190626-8481-18-7c8813e1-82e8-4c27-aef9-fe5882d01041.nc to era5_data/total_precipitation_2021.nc (6.1M)\n",
      "2024-05-15 22:36:47,394 INFO Download rate 2.2M/s   \n",
      "2024-05-15 22:36:47,787 INFO Welcome to the CDS\n",
      "2024-05-15 22:36:47,788 INFO Sending request to https://cds.climate.copernicus.eu/api/v2/resources/reanalysis-era5-single-levels\n"
     ]
    },
    {
     "name": "stdout",
     "output_type": "stream",
     "text": [
      "Retrieving data for total_precipitation, 2022\n"
     ]
    },
    {
     "name": "stderr",
     "output_type": "stream",
     "text": [
      "2024-05-15 22:36:47,996 INFO Request is queued\n",
      "2024-05-15 22:36:49,196 INFO Request is running\n",
      "2024-05-15 22:37:09,963 INFO Request is completed\n",
      "2024-05-15 22:37:09,964 INFO Downloading https://download-0003-clone.copernicus-climate.eu/cache-compute-0003/cache/data2/adaptor.mars.internal-1715834228.794223-5065-16-92ca1d4c-305d-41f8-aa28-8f7bfb4e4ee2.nc to era5_data/total_precipitation_2022.nc (6.1M)\n",
      "2024-05-15 22:37:11,792 INFO Download rate 3.3M/s   \n",
      "2024-05-15 22:37:12,184 INFO Welcome to the CDS\n",
      "2024-05-15 22:37:12,184 INFO Sending request to https://cds.climate.copernicus.eu/api/v2/resources/reanalysis-era5-single-levels\n"
     ]
    },
    {
     "name": "stdout",
     "output_type": "stream",
     "text": [
      "Retrieving data for total_precipitation, 2023\n"
     ]
    },
    {
     "name": "stderr",
     "output_type": "stream",
     "text": [
      "2024-05-15 22:37:12,385 INFO Request is queued\n",
      "2024-05-15 22:37:13,585 INFO Request is running\n",
      "2024-05-15 22:37:34,357 INFO Request is completed\n",
      "2024-05-15 22:37:34,357 INFO Downloading https://download-0009-clone.copernicus-climate.eu/cache-compute-0009/cache/data7/adaptor.mars.internal-1715834252.3238864-6337-14-a072a205-dc4b-490f-85c1-78d52fc60a69.nc to era5_data/total_precipitation_2023.nc (6.1M)\n",
      "2024-05-15 22:37:36,907 INFO Download rate 2.4M/s   \n"
     ]
    }
   ],
   "source": [
    "c = cdsapi.Client()\n",
    "\n",
    "for variable in variables:\n",
    "    for year in years:\n",
    "        print(f\"Retrieving data for {variable}, {year}\")\n",
    "        c.retrieve(\n",
    "            \"reanalysis-era5-single-levels\",\n",
    "            {\n",
    "                \"product_type\": \"reanalysis\",\n",
    "                \"format\": \"netcdf\",\n",
    "                \"variable\": variable,\n",
    "                \"year\": year,\n",
    "                \"month\": months,\n",
    "                \"day\": days,\n",
    "                \"time\": time,\n",
    "                \"area\": bbox,\n",
    "            },\n",
    "            os.path.join(path_out, f\"{variable}_{year}.nc\"),\n",
    "        )"
   ]
  },
  {
   "cell_type": "code",
   "execution_count": null,
   "metadata": {},
   "outputs": [],
   "source": []
  }
 ],
 "metadata": {
  "kernelspec": {
   "display_name": "base",
   "language": "python",
   "name": "python3"
  },
  "language_info": {
   "codemirror_mode": {
    "name": "ipython",
    "version": 3
   },
   "file_extension": ".py",
   "mimetype": "text/x-python",
   "name": "python",
   "nbconvert_exporter": "python",
   "pygments_lexer": "ipython3",
   "version": "3.8.8"
  }
 },
 "nbformat": 4,
 "nbformat_minor": 2
}
