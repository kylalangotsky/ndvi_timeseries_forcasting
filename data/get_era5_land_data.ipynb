{
 "cells": [
  {
   "cell_type": "code",
   "execution_count": 1,
   "metadata": {},
   "outputs": [],
   "source": [
    "import os\n",
    "import glob\n",
    "import cdsapi\n",
    "import numpy as np\n",
    "\n",
    "import zipfile"
   ]
  },
  {
   "cell_type": "markdown",
   "metadata": {},
   "source": [
    "Instructions on how to use the CDS API: https://cds.climate.copernicus.eu/api-how-to"
   ]
  },
  {
   "cell_type": "code",
   "execution_count": 6,
   "metadata": {},
   "outputs": [
    {
     "data": {
      "text/plain": [
       "[50, -125, 40, -78]"
      ]
     },
     "execution_count": 6,
     "metadata": {},
     "output_type": "execute_result"
    }
   ],
   "source": [
    "xmin, xmax, ymin, ymax = (-125, -78, 40, 50)\n",
    "bbox = [\n",
    "    ymax,\n",
    "    xmin,\n",
    "    ymin,\n",
    "    xmax,\n",
    "]  # North, West, South, East\n",
    "bbox"
   ]
  },
  {
   "cell_type": "code",
   "execution_count": 7,
   "metadata": {},
   "outputs": [],
   "source": [
    "# Set parameters\n",
    "dataset = \"reanalysis-era5-land\"\n",
    "format = \"netcdf.zip\"\n",
    "variables = [\"2m_temperature\", \"total_precipitation\"]\n",
    "years = list(range(2010, 2024))\n",
    "months = [str(month).zfill(2) for month in range(1, 13)]\n",
    "days = [str(day).zfill(2) for day in range(1, 32)]\n",
    "time = \"12:00\""
   ]
  },
  {
   "cell_type": "code",
   "execution_count": 8,
   "metadata": {},
   "outputs": [],
   "source": [
    "path_out = \"era5_land_data\"\n",
    "os.makedirs(path_out, exist_ok=True)"
   ]
  },
  {
   "cell_type": "code",
   "execution_count": 9,
   "metadata": {},
   "outputs": [
    {
     "name": "stdout",
     "output_type": "stream",
     "text": [
      "Retrieving data for 2m_temperature\n"
     ]
    },
    {
     "name": "stderr",
     "output_type": "stream",
     "text": [
      "2024-05-21 13:32:41,792 INFO Welcome to the CDS\n",
      "2024-05-21 13:32:41,793 INFO Sending request to https://cds.climate.copernicus.eu/api/v2/resources/reanalysis-era5-land\n",
      "2024-05-21 13:32:42,036 INFO Request is queued\n",
      "2024-05-21 13:32:43,238 INFO Request is running\n",
      "2024-05-21 13:47:06,920 INFO Request is completed\n",
      "2024-05-21 13:47:06,921 INFO Downloading https://download-0004-clone.copernicus-climate.eu/cache-compute-0004/cache/data4/adaptor.mars.internal-1716324289.954533-30446-5-1fc6110d-fe95-4ff2-a3b2-aa669f6607df.zip to era5_land_data/2m_temperature.netcdf.zip (417.5M)\n",
      "2024-05-21 13:50:45,008 INFO Download rate 1.9M/s    \n",
      "2024-05-21 13:50:50,313 INFO Welcome to the CDS\n",
      "2024-05-21 13:50:50,314 INFO Sending request to https://cds.climate.copernicus.eu/api/v2/resources/reanalysis-era5-land\n"
     ]
    },
    {
     "name": "stdout",
     "output_type": "stream",
     "text": [
      "Retrieving data for total_precipitation\n"
     ]
    },
    {
     "name": "stderr",
     "output_type": "stream",
     "text": [
      "2024-05-21 13:50:50,526 INFO Request is queued\n",
      "2024-05-21 13:50:51,699 INFO Request is running\n",
      "2024-05-21 14:07:16,101 INFO Request is completed\n",
      "2024-05-21 14:07:16,105 INFO Downloading https://download-0000-clone.copernicus-climate.eu/cache-compute-0000/cache/data7/adaptor.mars.internal-1716325496.1817925-15375-19-2444dc31-dccf-4f3f-91b1-6d883ae74865.zip to era5_land_data/total_precipitation.netcdf.zip (180.8M)\n",
      "2024-05-21 14:07:50,613 INFO Download rate 5.2M/s    \n"
     ]
    }
   ],
   "source": [
    "c = cdsapi.Client()\n",
    "\n",
    "for variable in variables:\n",
    "    print(f\"Retrieving data for {variable}\")\n",
    "    c.retrieve(\n",
    "        dataset,\n",
    "        {\n",
    "            \"format\": format,\n",
    "            \"variable\": variable,\n",
    "            \"year\": years,\n",
    "            \"month\": months,\n",
    "            \"day\": days,\n",
    "            \"time\": time,\n",
    "            \"area\": bbox,\n",
    "        },\n",
    "        os.path.join(path_out, f\"{variable}.{format}\"),\n",
    "    )\n",
    "\n",
    "    with zipfile.ZipFile(\n",
    "        os.path.join(path_out, f\"{variable}.{format}\"), \"r\"\n",
    "    ) as zip_ref:\n",
    "        zip_ref.extractall(os.path.join(path_out, variable))"
   ]
  },
  {
   "cell_type": "code",
   "execution_count": null,
   "metadata": {},
   "outputs": [],
   "source": []
  }
 ],
 "metadata": {
  "kernelspec": {
   "display_name": "base",
   "language": "python",
   "name": "python3"
  },
  "language_info": {
   "codemirror_mode": {
    "name": "ipython",
    "version": 3
   },
   "file_extension": ".py",
   "mimetype": "text/x-python",
   "name": "python",
   "nbconvert_exporter": "python",
   "pygments_lexer": "ipython3",
   "version": "3.8.8"
  }
 },
 "nbformat": 4,
 "nbformat_minor": 2
}
